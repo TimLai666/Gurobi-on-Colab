{
 "cells": [
  {
   "cell_type": "markdown",
   "metadata": {
    "id": "d04tDYJeuHYB"
   },
   "source": [
    "# 安裝"
   ]
  },
  {
   "cell_type": "code",
   "execution_count": null,
   "metadata": {
    "colab": {
     "base_uri": "https://localhost:8080/"
    },
    "id": "F7FZZOLXhMZU",
    "outputId": "c8325b7f-8a1a-4a53-876c-11604ab9f250"
   },
   "outputs": [],
   "source": [
    "!pip install gurobipy  # install gurobipy, if not already installed\n",
    "import gurobipy as gp  # import the installed package"
   ]
  },
  {
   "cell_type": "code",
   "execution_count": null,
   "metadata": {
    "colab": {
     "base_uri": "https://localhost:8080/"
    },
    "id": "gElWM0WjiP7M",
    "outputId": "d38960c8-24bc-4b74-f7b3-8a3446e46cb6"
   },
   "outputs": [],
   "source": [
    "!pip install gradio gurobipy openpyxl\n",
    "!pip install pyngrok\n"
   ]
  },
  {
   "cell_type": "markdown",
   "metadata": {
    "id": "29GEEdd9t1jw"
   },
   "source": [
    "# 前端"
   ]
  },
  {
   "cell_type": "code",
   "execution_count": null,
   "metadata": {
    "colab": {
     "base_uri": "https://localhost:8080/",
     "height": 645
    },
    "id": "bFpjVsKOhdUK",
    "outputId": "8b6732c8-ec9e-490a-8009-07e021e30b44"
   },
   "outputs": [],
   "source": [
    "import gradio as gr\n",
    "import requests\n",
    "import pandas as pd\n",
    "\n",
    "API_URL = \"http://127.0.0.1:5000/solve\"\n",
    "\n",
    "def solve_and_display(model_file, time_limit):\n",
    "    try:\n",
    "        # 上傳文件到後端\n",
    "        with open(model_file.name, 'rb') as f:\n",
    "            response = requests.post(\n",
    "                API_URL,\n",
    "                files={\"file\": f},\n",
    "                data={\"time_limit\": time_limit}\n",
    "            )\n",
    "\n",
    "        # 處理後端返回的結果\n",
    "        result = response.json()\n",
    "\n",
    "        # 檢查錯誤\n",
    "        if 'error' in result:\n",
    "            error_message = f\"錯誤: {result['error']}\"\n",
    "            if \"infeasible_constraints\" in result:\n",
    "                error_message += \"\\n不可行約束:\\n\" + \"\\n\".join(result[\"infeasible_constraints\"])\n",
    "            logs = result.get(\"log\", \"無日誌輸出\")\n",
    "            return error_message, None, logs\n",
    "\n",
    "        # 處理成功結果\n",
    "        variables = pd.DataFrame(result['variables'])\n",
    "        variables.rename(columns={\"VarName\": \"Variable\", \"Value\": \"Value\"}, inplace=True)\n",
    "        objective = result[\"objective\"]\n",
    "        status = result[\"status\"]\n",
    "        logs = result.get(\"log\", \"無日誌輸出\")\n",
    "\n",
    "        # 組合求解摘要\n",
    "        description = f\"目標值 (Objective): {objective}\\n狀態碼 (Status): {status}\"\n",
    "\n",
    "        return description, variables, logs\n",
    "\n",
    "    except requests.exceptions.RequestException as e:\n",
    "        return f\"請求失敗: {str(e)}\", None, None\n",
    "    except Exception as e:\n",
    "        return f\"未知錯誤: {str(e)}\", None, None\n",
    "\n",
    "\n",
    "# 定義 Gradio 介面\n",
    "with gr.Blocks() as demo:\n",
    "    gr.Markdown(\"## Gurobi Model Runner\")\n",
    "    with gr.Row():\n",
    "        model_file = gr.File(label=\"上傳 Gurobi 模型文件\")\n",
    "        time_limit = gr.Number(label=\"時間限制 (秒, 0 表示無限制)\", value=0)\n",
    "    solve_button = gr.Button(\"求解模型\")\n",
    "    with gr.Row():\n",
    "        result_text = gr.Textbox(label=\"求解摘要\", lines=5, interactive=False)\n",
    "    with gr.Row():\n",
    "        variable_table = gr.Dataframe(label=\"變數結果\", headers=[\"Variable\", \"Value\"], interactive=False)\n",
    "    with gr.Row():\n",
    "        log_text = gr.Textbox(label=\"日誌輸出\", lines=15, interactive=False)\n",
    "\n",
    "    solve_button.click(\n",
    "        solve_and_display,\n",
    "        inputs=[model_file, time_limit],\n",
    "        outputs=[result_text, variable_table, log_text]\n",
    "    )\n",
    "\n",
    "demo.launch()\n"
   ]
  },
  {
   "cell_type": "markdown",
   "metadata": {
    "id": "TPpJkk37t8GU"
   },
   "source": [
    "# 後端"
   ]
  },
  {
   "cell_type": "code",
   "execution_count": null,
   "metadata": {
    "colab": {
     "base_uri": "https://localhost:8080/"
    },
    "id": "-Z3w1WvBqP9e",
    "outputId": "982c78aa-2b25-45ff-fadf-4934de3735ac"
   },
   "outputs": [],
   "source": [
    "from flask import Flask, request, jsonify\n",
    "import gurobipy as gp\n",
    "from gurobipy import GRB\n",
    "import tempfile\n",
    "import os\n",
    "\n",
    "app = Flask(__name__)\n",
    "\n",
    "@app.route('/solve', methods=['POST'])\n",
    "def solve_model():\n",
    "    try:\n",
    "        # 接收請求\n",
    "        data = request.files['file']\n",
    "        time_limit = float(request.form.get('time_limit', 0))\n",
    "\n",
    "        # 保存模型文件\n",
    "        temp_dir = tempfile.mkdtemp()\n",
    "        model_file_path = os.path.join(temp_dir, data.filename)\n",
    "        with open(model_file_path, 'wb') as f:\n",
    "            f.write(data.read())\n",
    "\n",
    "        # 讀取並求解模型\n",
    "        model = gp.read(model_file_path)\n",
    "        if time_limit > 0:\n",
    "            model.setParam(GRB.Param.TimeLimit, time_limit)\n",
    "\n",
    "        # 設置日誌文件\n",
    "        log_output = []\n",
    "        with tempfile.NamedTemporaryFile(delete=False) as log_file:\n",
    "            model.setParam(\"LogFile\", log_file.name)\n",
    "            model.optimize()\n",
    "            with open(log_file.name, \"r\") as log:\n",
    "                log_output = log.readlines()\n",
    "\n",
    "        # 檢查求解狀態\n",
    "        if model.Status == GRB.INFEASIBLE:\n",
    "            # 執行不可行性分析 (IIS)\n",
    "            model.computeIIS()\n",
    "            infeasible_constraints = [\n",
    "                c.ConstrName for c in model.getConstrs() if c.IISConstr\n",
    "            ]\n",
    "            return jsonify({\n",
    "                \"error\": \"模型不可行\",\n",
    "                \"infeasible_constraints\": infeasible_constraints,\n",
    "                \"log\": \"\".join(log_output)\n",
    "            }), 400\n",
    "\n",
    "        # 收集結果\n",
    "        variables = [{\"VarName\": v.VarName, \"Value\": v.X} for v in model.getVars()]\n",
    "        objective = model.ObjVal if model.Status == GRB.OPTIMAL else None\n",
    "        status = model.Status\n",
    "\n",
    "        # 返回結果\n",
    "        return jsonify({\n",
    "            \"variables\": variables,\n",
    "            \"objective\": objective,\n",
    "            \"status\": status,\n",
    "            \"log\": \"\".join(log_output)\n",
    "        })\n",
    "\n",
    "    except gp.GurobiError as e:\n",
    "        return jsonify({\"error\": f\"Gurobi Error: {str(e)}\"}), 500\n",
    "    except Exception as e:\n",
    "        return jsonify({\"error\": f\"未知錯誤: {str(e)}\"}), 500\n",
    "\n",
    "\n",
    "if __name__ == '__main__':\n",
    "    app.run(host='0.0.0.0', port=5000)\n"
   ]
  }
 ],
 "metadata": {
  "colab": {
   "provenance": []
  },
  "kernelspec": {
   "display_name": "Python 3",
   "name": "python3"
  },
  "language_info": {
   "name": "python"
  }
 },
 "nbformat": 4,
 "nbformat_minor": 0
}
